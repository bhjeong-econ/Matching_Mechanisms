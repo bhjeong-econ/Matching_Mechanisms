{
 "cells": [
  {
   "cell_type": "markdown",
   "metadata": {},
   "source": [
    "# Gale-Shapley (Deferred Acceptance Algorithm)"
   ]
  },
  {
   "cell_type": "code",
   "execution_count": 1,
   "metadata": {},
   "outputs": [],
   "source": [
    "import pandas as pd\n",
    "import numpy as np\n",
    "import matplotlib.pyplot as plt\n",
    "\n",
    "%matplotlib inline"
   ]
  },
  {
   "cell_type": "markdown",
   "metadata": {},
   "source": [
    "## 1. Generate Schools and Applicants Data  "
   ]
  },
  {
   "cell_type": "code",
   "execution_count": 92,
   "metadata": {},
   "outputs": [],
   "source": [
    "\n",
    "n_a = 1000 #the number of applicants\n",
    "\n",
    "n_s = 20 #the number of schools\n",
    "\n",
    "n_p = 4 #the number of tiers of applicants\n",
    "\n",
    "# generate utility randomly\n",
    "\n",
    "a = np.zeros((n_a,n_s+1), dtype=int)\n",
    "\n",
    "\n",
    "for i in range(n_a):\n",
    "    a[i] = np.arange(n_s+1)\n",
    "    np.random.shuffle(a[i])\n",
    "    \n",
    "    \n",
    "\n",
    "#make all schools acceptable (not necesary)\n",
    "\n",
    "a[:,n_s] = -10\n",
    "\n",
    "\n",
    "# generate priority randomly    \n",
    "    \n",
    "b = np.zeros((n_s,n_a), dtype=int)\n",
    "\n",
    "for i in range(n_s):\n",
    "    b[i] = np.random.randint(n_p, size = n_a)\n",
    "    np.random.shuffle(b[i])\n",
    "\n",
    "\n",
    "\n",
    "applicants = pd.DataFrame(a)\n",
    "applicants.index = ['a' + str(x) for x in applicants.index]\n",
    "schools = pd.DataFrame(b)\n",
    "schools.index = ['s' + str(x) for x in schools.index]\n",
    "applicants.columns = list(schools.index) + ['self']\n",
    "schools.columns = list(applicants.index)\n",
    "\n",
    "'''\n",
    "# generate school quotas randomly.\n",
    "schools.insert(len(applicants.index),\"quota\", [np.random.randint(low=1,high=(2*len(applicants.index))//len(schools.index)) for s in schools.index])\n",
    "schools_quota = {s: schools['quota'][s] for s in schools.index}\n",
    "'''\n",
    "\n",
    "# all schools have same quota.\n",
    "schools_quota = {s: (len(applicants.index)//len(schools.index)-1) for s in schools.index}\n",
    "\n",
    "\n",
    "# you can import or export data here\n",
    "\n",
    "'''    \n",
    "applicants.to_csv(ind)\n",
    "schools.to_csv(index=False)\n",
    "\n",
    "applicants = pd.read_csv('applicants.csv',index_col=0)\n",
    "schools = pd.read_csv('schools.csv',index_col=0)\n",
    "\n",
    "'''\n",
    "\n",
    "# generate lotteries for single tie-breaking\n",
    "lottery_s = {}\n",
    "\n",
    "for a in applicants.index:\n",
    "    lottery_s[a] = np.random.randn()\n",
    "    \n",
    "    \n",
    "# generate lotteries for multi tie-breaking\n",
    " \n",
    "lottery_m = {}\n",
    "\n",
    "for a in applicants.index:\n",
    "    lottery_m[a] = {}\n",
    "    for s in schools.index:\n",
    "        lottery_m[a][s] = np.random.randn()\n",
    "\n",
    "lottery_m = pd.DataFrame(lottery_m)    \n"
   ]
  },
  {
   "cell_type": "markdown",
   "metadata": {},
   "source": [
    "## 2. Initialize Variables"
   ]
  },
  {
   "cell_type": "code",
   "execution_count": 93,
   "metadata": {},
   "outputs": [],
   "source": [
    "applicants_list_include_self = list(applicants.index) + ['self'] \n",
    "schools_list  = list(schools.index) + ['self']\n",
    "\n",
    "\n",
    "schools_avail = {a: sorted(schools_list, key = lambda x: applicants.loc[a][x],reverse=True) for a in applicants.index}\n",
    "\n",
    "applicants_avail = list(applicants.index.copy())\n",
    "\n",
    "tentative_match = dict([key,[]] for key in schools.index)\n",
    "\n",
    "t_match_applicants = {a: 'self' for a in list(applicants.index)}\n",
    "\n",
    "applicants_propose = {}\n",
    "\n",
    "school_pools = {}\n",
    "\n",
    "accepted_applicants = []\n",
    "\n",
    "def best_school_available(a):\n",
    "    return schools_avail[a][0]\n",
    "\n",
    "def pool_of_applicants(s):\n",
    "    return [a for a in applicants_avail if s == applicants_propose[a]]\n",
    "\n",
    "def accept_(a,s):\n",
    "    tentative_match[s] = tentative_match[s] + [a] \n",
    "    \n",
    "def reject_(a,s):\n",
    "    if a in tentative_match[s]:\n",
    "        tentative_match[s] = list(set(tentative_match[s]) - set([a])) \n",
    "\n",
    "count = 0"
   ]
  },
  {
   "cell_type": "markdown",
   "metadata": {},
   "source": [
    "## 3. Run the DA Algorithm with Single Tie-breaking"
   ]
  },
  {
   "cell_type": "code",
   "execution_count": 94,
   "metadata": {},
   "outputs": [],
   "source": [
    "while len(applicants_avail) > 0:\n",
    "\n",
    "    for a in applicants_avail:\n",
    "        applicants_propose[a] = best_school_available(a)\n",
    "\n",
    "    # pool of applicants for each school after proposing\n",
    "    for s in schools.index:\n",
    "        school_pools[s] = tentative_match[s] + pool_of_applicants(s)  \n",
    "\n",
    "    # each woman selects the best man possible save tentative matches\n",
    "    for s in schools.index:\n",
    "        sorted_applicants = sorted(school_pools[s], key =lambda x: (schools.loc[s][x],lottery_s[x]),reverse=True)\n",
    "        if len(sorted_applicants) <= schools_quota[s]:\n",
    "            tentative_match[s] = sorted_applicants\n",
    "        else:\n",
    "            tentative_match[s] = sorted_applicants[0:schools_quota[s]]\n",
    "\n",
    "    \n",
    "    # record accepted applicants to see who are available in the next round\n",
    "    for s in schools.index:\n",
    "        accepted_applicants = accepted_applicants + tentative_match[s]\n",
    "\n",
    "\n",
    "    # applicants cannot reapply to the same school\n",
    "    for a in applicants_avail:\n",
    "        if schools_avail[a][0] != 'self':\n",
    "            del schools_avail[a][0]  \n",
    "\n",
    "\n",
    "    applicants_avail = [a for a in applicants.index if a not in accepted_applicants and schools_avail[a][0] != 'self']\n",
    "    \n",
    "\n",
    "    # initialize for the next loop \n",
    "    for s in schools.index:\n",
    "        school_pools[s] = []\n",
    "\n",
    "    accepted_applicants = []\n",
    "\n",
    "    applicants_propose = {}\n",
    "    \n",
    "    count = count + 1"
   ]
  },
  {
   "cell_type": "markdown",
   "metadata": {},
   "source": [
    "## 4. Save the Output as a DataFrame"
   ]
  },
  {
   "cell_type": "code",
   "execution_count": 95,
   "metadata": {},
   "outputs": [],
   "source": [
    "for a in applicants.index:\n",
    "    for s in schools.index:\n",
    "        if a in tentative_match[s]:\n",
    "            t_match_applicants[a] = s\n",
    "            \n",
    "match_schools_s = pd.DataFrame(tentative_match.values(),index = tentative_match.keys())\n",
    "\n",
    "match_schools_s.insert(0,\"empty seats\",[schools_quota[s] - match_schools_s.loc[s].count()\n",
    "                                      for s in match_schools_s.index])\n",
    "\n",
    "match_applicants_s = pd.DataFrame(t_match_applicants.values(), index = t_match_applicants.keys(),columns =['match'])\n",
    "\n",
    "match_applicants_s.insert(1,\"utility\",[applicants.loc[a][match_applicants_s.loc[a]['match']] \n",
    "                                      for a in match_applicants_s.index])\n",
    "\n",
    "match_applicants_s.insert(2, 'ranking', [applicants.loc[a].rank(ascending = False).astype(int)[match_applicants_s.loc[a]['match']] \n",
    "                                         for a in match_applicants_s.index])\n"
   ]
  },
  {
   "cell_type": "markdown",
   "metadata": {},
   "source": [
    "## 5. Initialize Variables"
   ]
  },
  {
   "cell_type": "code",
   "execution_count": 96,
   "metadata": {},
   "outputs": [],
   "source": [
    "applicants_list_include_self = list(applicants.index) + ['self'] \n",
    "schools_list  = list(schools.index) + ['self']\n",
    "\n",
    "\n",
    "schools_avail = {a: sorted(schools_list, key = lambda x: applicants.loc[a][x],reverse=True) for a in applicants.index}\n",
    "\n",
    "applicants_avail = list(applicants.index.copy())\n",
    "\n",
    "tentative_match = dict([key,[]] for key in schools.index)\n",
    "\n",
    "t_match_applicants = {a: 'self' for a in list(applicants.index)}\n",
    "\n",
    "applicants_propose = {}\n",
    "\n",
    "school_pools = {}\n",
    "\n",
    "accepted_applicants = []\n",
    "\n",
    "def best_school_available(a):\n",
    "    return schools_avail[a][0]\n",
    "\n",
    "def pool_of_applicants(s):\n",
    "    return [a for a in applicants_avail if s == applicants_propose[a]]\n",
    "\n",
    "def accept_(a,s):\n",
    "    tentative_match[s] = tentative_match[s] + [a] \n",
    "    \n",
    "def reject_(a,s):\n",
    "    if a in tentative_match[s]:\n",
    "        tentative_match[s] = list(set(tentative_match[s]) - set([a])) \n",
    "\n",
    "count = 0"
   ]
  },
  {
   "cell_type": "markdown",
   "metadata": {},
   "source": [
    "## 6. Run the DA Algorithm with Multie Tie-breaking"
   ]
  },
  {
   "cell_type": "code",
   "execution_count": 97,
   "metadata": {},
   "outputs": [],
   "source": [
    "while len(applicants_avail) > 0:\n",
    "\n",
    "    for a in applicants_avail:\n",
    "        applicants_propose[a] = best_school_available(a)\n",
    "\n",
    "    # pool of applicants for each school after proposing\n",
    "    for s in schools.index:\n",
    "        school_pools[s] = tentative_match[s] + pool_of_applicants(s)  \n",
    "\n",
    "    # each woman selects the best man possible save tentative matches\n",
    "    for s in schools.index:\n",
    "        sorted_applicants = sorted(school_pools[s], key =lambda x: (schools.loc[s][x],lottery_m[x][s]),reverse=True)\n",
    "        if len(sorted_applicants) <= schools_quota[s]:\n",
    "            tentative_match[s] = sorted_applicants\n",
    "        else:\n",
    "            tentative_match[s] = sorted_applicants[0:schools_quota[s]]\n",
    "\n",
    "    \n",
    "    # record accepted applicants to see who are available in the next round\n",
    "    for s in schools.index:\n",
    "        accepted_applicants = accepted_applicants + tentative_match[s]\n",
    "\n",
    "\n",
    "    # applicants cannot reapply to the same school\n",
    "    for a in applicants_avail:\n",
    "        if schools_avail[a][0] != 'self':\n",
    "            del schools_avail[a][0]  \n",
    "\n",
    "\n",
    "    applicants_avail = [a for a in applicants.index if a not in accepted_applicants and schools_avail[a][0] != 'self']\n",
    "    \n",
    "\n",
    "    # initialize for the next loop \n",
    "    for s in schools.index:\n",
    "        school_pools[s] = []\n",
    "\n",
    "    accepted_applicants = []\n",
    "\n",
    "    applicants_propose = {}\n",
    "    \n",
    "    count = count + 1"
   ]
  },
  {
   "cell_type": "markdown",
   "metadata": {},
   "source": [
    "## 7. Save the Output as a DataFrame"
   ]
  },
  {
   "cell_type": "code",
   "execution_count": 98,
   "metadata": {},
   "outputs": [],
   "source": [
    "for a in applicants.index:\n",
    "    for s in schools.index:\n",
    "        if a in tentative_match[s]:\n",
    "            t_match_applicants[a] = s\n",
    "            \n",
    "match_schools_m = pd.DataFrame(tentative_match.values(),index = tentative_match.keys())\n",
    "\n",
    "match_schools_m.insert(0,\"empty seats\",[schools_quota[s] - match_schools_m.loc[s].count()\n",
    "                                      for s in match_schools_m.index])\n",
    "\n",
    "match_applicants_m = pd.DataFrame(t_match_applicants.values(), index = t_match_applicants.keys(),columns =['match'])\n",
    "\n",
    "match_applicants_m.insert(1,\"utility\",[applicants.loc[a][match_applicants_m.loc[a]['match']] \n",
    "                                      for a in match_applicants_m.index])\n",
    "\n",
    "match_applicants_m.insert(2, 'ranking', [applicants.loc[a].rank(ascending = False).astype(int)[match_applicants_m.loc[a]['match']] \n",
    "                                         for a in match_applicants_m.index])\n"
   ]
  },
  {
   "cell_type": "markdown",
   "metadata": {},
   "source": [
    "## 8. Data Analysis "
   ]
  },
  {
   "cell_type": "code",
   "execution_count": 99,
   "metadata": {},
   "outputs": [
    {
     "data": {
      "text/plain": [
       "<matplotlib.legend.Legend at 0x7f9a2627cb20>"
      ]
     },
     "execution_count": 99,
     "metadata": {},
     "output_type": "execute_result"
    },
    {
     "data": {
      "image/png": "[encoded data removed]",
      "text/plain": [
       "<Figure size 432x288 with 1 Axes>"
      ]
     },
     "metadata": {
      "needs_background": "light"
     },
     "output_type": "display_data"
    }
   ],
   "source": [
    "## rank distribution\n",
    "\n",
    "## single tie-breaking\n",
    "\n",
    "s_rank_dist = np.cumsum([len(match_applicants_s[match_applicants_s.ranking == i]) for i in range(1,len(schools.index))])\n",
    "\n",
    "## multi tie-breaking\n",
    "m_rank_dist = np.cumsum([len(match_applicants_m[match_applicants_m.ranking == i]) for i in range(1,len(schools.index))])\n",
    "\n",
    "\n",
    "\n",
    "#plot\n",
    "plt.title('Cumulative Rank Distribution')\n",
    "plt.plot(s_rank_dist, label='Single')\n",
    "plt.plot(m_rank_dist, label= 'Multi')\n",
    "plt.legend(loc=\"lower right\")\n"
   ]
  },
  {
   "cell_type": "code",
   "execution_count": null,
   "metadata": {},
   "outputs": [],
   "source": []
  }
 ],
 "metadata": {
  "kernelspec": {
   "display_name": "Python 3",
   "language": "python",
   "name": "python3"
  },
  "language_info": {
   "codemirror_mode": {
    "name": "ipython",
    "version": 3
   },
   "file_extension": ".py",
   "mimetype": "text/x-python",
   "name": "python",
   "nbconvert_exporter": "python",
   "pygments_lexer": "ipython3",
   "version": "3.8.5"
  }
 },
 "nbformat": 4,
 "nbformat_minor": 4
}
