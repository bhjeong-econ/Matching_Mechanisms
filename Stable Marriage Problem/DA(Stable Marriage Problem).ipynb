{
 "cells": [
  {
   "cell_type": "markdown",
   "metadata": {},
   "source": [
    "# Gale-Shapley (Deferred Acceptance Algorithm)"
   ]
  },
  {
   "cell_type": "code",
   "execution_count": 845,
   "metadata": {},
   "outputs": [],
   "source": [
    "import pandas as pd\n",
    "import numpy as np\n",
    "import matplotlib.pyplot as plt\n",
    "\n",
    "%matplotlib inline"
   ]
  },
  {
   "cell_type": "markdown",
   "metadata": {},
   "source": [
    "## 1. Generate Preferences of Men and Women"
   ]
  },
  {
   "cell_type": "code",
   "execution_count": 864,
   "metadata": {},
   "outputs": [],
   "source": [
    "\n",
    "n_m = 200 #number of men\n",
    "\n",
    "n_w = 200 #number of women\n",
    "\n",
    "# generate utility randomly\n",
    "\n",
    "a = np.zeros((n_m,n_w+1), dtype=int)\n",
    "b = np.zeros((n_w,n_m+1), dtype=int)\n",
    "\n",
    "\n",
    "for i in range(n_m):\n",
    "    a[i] = np.arange(n_w+1)\n",
    "    np.random.shuffle(a[i])\n",
    "\n",
    "for i in range(n_w):\n",
    "    b[i] = np.arange(n_m+1)\n",
    "    np.random.shuffle(b[i])\n",
    "    \n",
    "\n",
    "men= pd.DataFrame(a)\n",
    "men.index = ['m' + str(x) for x in men.index]\n",
    "women = pd.DataFrame(b)\n",
    "women.index = ['w' + str(x) for x in women.index]\n",
    "men.columns = list(women.index) + ['self']\n",
    "women.columns = list(men.index) + ['self']\n",
    "\n",
    "\n",
    "# you can import or export data here \n",
    "\n",
    "'''   \n",
    "men.to_csv('men.csv')\n",
    "women.to_csv('women.csv')\n",
    "\n",
    "men = pd.read_csv('men.csv',index_col=0)\n",
    "women = pd.read_csv('women.csv',index_col=0)\n",
    "\n",
    "'''\n",
    "\n",
    "\n",
    "\n"
   ]
  },
  {
   "cell_type": "markdown",
   "metadata": {},
   "source": [
    "## 2. Initialize Variables"
   ]
  },
  {
   "cell_type": "code",
   "execution_count": 850,
   "metadata": {},
   "outputs": [],
   "source": [
    "men_list_include_self = list(women.columns) \n",
    "women_list_include_self = list(men.columns)\n",
    "\n",
    "women_avail = {m: sorted(women_list_include_self,key = lambda x: men.loc[m][x],reverse=True) for m in men.index}\n",
    "\n",
    "men_avail = list(men.index.copy())\n",
    "\n",
    "tentative_match = {w: 'self' for w in list(women.index)}\n",
    "\n",
    "tentative_match_men = {m: 'self' for m in list(men.index)}\n",
    "\n",
    "men_propose = {}\n",
    "\n",
    "women_pools = {}\n",
    "\n",
    "\n",
    "def best_woman_available(m):\n",
    "    return women_avail[m][0]\n",
    "\n",
    "def pool_of_men(w):\n",
    "    return [tentative_match[w]] + [m for m in men_avail if w == men_propose[m]]"
   ]
  },
  {
   "cell_type": "markdown",
   "metadata": {},
   "source": [
    "## 3. Run the DA Algorithm"
   ]
  },
  {
   "cell_type": "code",
   "execution_count": 852,
   "metadata": {},
   "outputs": [],
   "source": [
    "while len(men_avail) > 0:\n",
    "    \n",
    "    # men proposing\n",
    "    for m in men_avail:\n",
    "        men_propose[m] = best_woman_available(m)\n",
    "\n",
    "    # pool of men for women after proposing\n",
    "    for w in women.index:\n",
    "        women_pools[w] = pool_of_men(w)\n",
    "\n",
    "    # each woman selects the best man possible save tentative matches\n",
    "    for w in women.index:\n",
    "        tentative_match[w] = max(women_pools[w], key =lambda x: women.loc[w][x])\n",
    "        if tentative_match[w] != 'self':\n",
    "            tentative_match_men[tentative_match[w]] = w\n",
    "\n",
    "    for m in men_avail:\n",
    "        if women_avail[m][0] != 'self':\n",
    "            del women_avail[m][0]  \n",
    "\n",
    "    men_avail = [m for m in list(men.index) if m not in tentative_match.values() and women_avail[m][0] != 'self']\n",
    "    \n",
    "    \n",
    "    men_propose = {}\n",
    "\n",
    "    women_pools = {}\n",
    "    \n"
   ]
  },
  {
   "cell_type": "markdown",
   "metadata": {},
   "source": [
    "## 4. Save the Output as a DataFrame"
   ]
  },
  {
   "cell_type": "code",
   "execution_count": 853,
   "metadata": {},
   "outputs": [],
   "source": [
    "match_women = pd.DataFrame(tentative_match.values(),index = tentative_match.keys(),columns =['match'])\n",
    "\n",
    "match_men = pd.DataFrame(tentative_match_men.values(), index = tentative_match_men.keys(),columns =['match'])\n",
    "\n",
    "match_women.insert(1,\"utility\",[women.loc[w][match_women.loc[w]['match']] \n",
    "                                      for w in match_women.index])\n",
    "\n",
    "match_men.insert(1,\"utility\",[men.loc[m][match_men.loc[m]['match']] \n",
    "                                      for m in match_men.index])\n",
    "\n",
    "match_women.insert(2, 'ranking', [women.loc[w].rank(ascending = False).astype(int)[match_women.loc[w]['match']] \n",
    "                                         for w in match_women.index])\n",
    "\n",
    "match_men.insert(2, 'ranking', [men.loc[m].rank(ascending = False).astype(int)[match_men.loc[m]['match']] \n",
    "                                         for m in match_men.index])\n"
   ]
  },
  {
   "cell_type": "markdown",
   "metadata": {},
   "source": [
    "## 5. Data Analysis "
   ]
  },
  {
   "cell_type": "code",
   "execution_count": 854,
   "metadata": {},
   "outputs": [
    {
     "data": {
      "text/plain": [
       "<matplotlib.legend.Legend at 0x7fb6b515aeb0>"
      ]
     },
     "execution_count": 854,
     "metadata": {},
     "output_type": "execute_result"
    },
    {
     "data": {
      "image/png": "[encoded data removed]",
      "text/plain": [
       "<Figure size 432x288 with 1 Axes>"
      ]
     },
     "metadata": {
      "needs_background": "light"
     },
     "output_type": "display_data"
    }
   ],
   "source": [
    "## rank distribution\n",
    "\n",
    "## single tie-breaking\n",
    "\n",
    "m_rank_dist = np.cumsum([len(match_men[match_men.ranking == i]) for i in range(1,len(women.index))])\n",
    "\n",
    "## multi tie-breaking\n",
    "w_rank_dist = np.cumsum([len(match_women[match_women.ranking == i]) for i in range(1,len(men.index))])\n",
    "\n",
    "\n",
    "\n",
    "#plot\n",
    "plt.title('Cumulative Rank Distribution')\n",
    "plt.plot(m_rank_dist, label='Men')\n",
    "plt.plot(w_rank_dist, label= 'Women')\n",
    "plt.legend(loc=\"lower right\")\n"
   ]
  }
 ],
 "metadata": {
  "kernelspec": {
   "display_name": "Python 3",
   "language": "python",
   "name": "python3"
  },
  "language_info": {
   "codemirror_mode": {
    "name": "ipython",
    "version": 3
   },
   "file_extension": ".py",
   "mimetype": "text/x-python",
   "name": "python",
   "nbconvert_exporter": "python",
   "pygments_lexer": "ipython3",
   "version": "3.8.5"
  }
 },
 "nbformat": 4,
 "nbformat_minor": 4
}
